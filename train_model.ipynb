{
 "cells": [
  {
   "cell_type": "code",
   "execution_count": 0,
   "metadata": {
    "application/vnd.databricks.v1+cell": {
     "cellMetadata": {
      "byteLimit": 2048000,
      "rowLimit": 10000
     },
     "inputWidgets": {},
     "nuid": "89708891-7c6c-4ae6-9b49-85e2d418a05a",
     "showTitle": false,
     "tableResultSettingsMap": {},
     "title": ""
    }
   },
   "outputs": [],
   "source": [
    "pip install snowflake"
   ]
  },
  {
   "cell_type": "code",
   "execution_count": 0,
   "metadata": {
    "application/vnd.databricks.v1+cell": {
     "cellMetadata": {
      "byteLimit": 2048000,
      "rowLimit": 10000
     },
     "inputWidgets": {},
     "nuid": "51494a2b-0ff8-4be3-b6ea-5d5cba4b45a8",
     "showTitle": false,
     "tableResultSettingsMap": {},
     "title": ""
    }
   },
   "outputs": [],
   "source": [
    "import json\n",
    "import os\n",
    "import pandas as pd\n",
    "import snowflake.connector\n",
    "from sklearn.model_selection import train_test_split\n",
    "from sklearn.ensemble import RandomForestClassifier\n",
    "from sklearn.metrics import (\n",
    "    accuracy_score, precision_score, recall_score,\n",
    "    f1_score, matthews_corrcoef, confusion_matrix\n",
    ")\n",
    "import joblib"
   ]
  },
  {
   "cell_type": "code",
   "execution_count": 0,
   "metadata": {
    "application/vnd.databricks.v1+cell": {
     "cellMetadata": {
      "byteLimit": 2048000,
      "rowLimit": 10000
     },
     "inputWidgets": {},
     "nuid": "2a7b9e2a-04cd-4892-9582-7a91c0c6a7e8",
     "showTitle": false,
     "tableResultSettingsMap": {},
     "title": ""
    }
   },
   "outputs": [],
   "source": [
    "# Load credentials from environment variables\n",
    "account = os.getenv('SNOWFLAKE_ACCOUNT','onmhvte-rm57820')\n",
    "user = os.getenv('SNOWFLAKE_USER','SAJAGMATHUR')\n",
    "password = os.getenv('SNOWFLAKE_PASSWORD','Thati10pur@719')\n",
    "warehouse = os.getenv('SNOWFLAKE_WAREHOUSE','COMPUTE_WH')\n",
    "database = os.getenv('SNOWFLAKE_DATABASE','CREDITCARD')  # should be 'CREDITCARD'\n",
    "schema = os.getenv('SNOWFLAKE_SCHEMA','PUBLIC')      # should be 'PUBLIC'\n",
    "email = os.getenv('DATABRICKS_EMAIL','sajag.mathur@exlservice.com')\n",
    "\n",
    "# Step 2: Construct target path\n",
    "target_dir = f\"/Workspace/Users/{email}/CREDITCARD/MODEL\"\n",
    "\n",
    "# Step 3: Ensure directory exists\n",
    "os.makedirs(target_dir, exist_ok=True)"
   ]
  },
  {
   "cell_type": "code",
   "execution_count": 0,
   "metadata": {
    "application/vnd.databricks.v1+cell": {
     "cellMetadata": {
      "byteLimit": 2048000,
      "rowLimit": 10000
     },
     "inputWidgets": {},
     "nuid": "99c1edcd-eb88-493c-9572-100750fa13ad",
     "showTitle": false,
     "tableResultSettingsMap": {},
     "title": ""
    }
   },
   "outputs": [],
   "source": [
    "# Function to fetch data from original table\n",
    "def fetch_data_from_snowflake():\n",
    "    conn = snowflake.connector.connect(\n",
    "        user=user,\n",
    "        password=password,\n",
    "        account=account,\n",
    "        warehouse=warehouse,\n",
    "        database=database,\n",
    "        schema=schema\n",
    "    )\n",
    "    cur = conn.cursor()\n",
    "    cur.execute(\"SELECT * FROM CREDITCARD.PUBLIC.CREDITCARD\")\n",
    "    df = cur.fetch_pandas_all()\n",
    "    conn.close()\n",
    "    return df\n"
   ]
  },
  {
   "cell_type": "code",
   "execution_count": 0,
   "metadata": {
    "application/vnd.databricks.v1+cell": {
     "cellMetadata": {
      "byteLimit": 2048000,
      "rowLimit": 10000
     },
     "inputWidgets": {},
     "nuid": "fe649fb6-5b66-4850-872e-c4d3812703d5",
     "showTitle": false,
     "tableResultSettingsMap": {},
     "title": ""
    }
   },
   "outputs": [],
   "source": [
    "\n",
    "\n",
    "def main():\n",
    "    # Step 1: Load data\n",
    "    data = fetch_data_from_snowflake()\n",
    "    print(\"✅ Data loaded from Snowflake. Shape:\", data.shape)\n",
    "\n",
    "    # Step 2: Split features and target\n",
    "    X = data.drop(['CLASS'], axis=1)\n",
    "    y = data['CLASS']\n",
    "    print(\"\\n🎯 Features shape:\", X.shape)\n",
    "    print(\"🎯 Target shape:\", y.shape)\n",
    "\n",
    "    # Step 3: Train-test split\n",
    "    xTrain, xTest, yTrain, yTest = train_test_split(X, y, test_size=0.2, random_state=42)\n",
    "    print(\"✅ Data split into train and test sets.\")\n",
    "\n",
    "    # Step 4: Train model\n",
    "    rfc = RandomForestClassifier()\n",
    "    rfc.fit(xTrain, yTrain)\n",
    "    print(\"✅ Random Forest model trained.\")\n",
    "\n",
    "    # Step 5: Evaluate model\n",
    "    yPred = rfc.predict(xTest)\n",
    "    metrics = {\n",
    "        'Accuracy': accuracy_score(yTest, yPred),\n",
    "        'Precision': precision_score(yTest, yPred),\n",
    "        'Recall': recall_score(yTest, yPred),\n",
    "        'F1 Score': f1_score(yTest, yPred),\n",
    "        'Matthews Corrcoef': matthews_corrcoef(yTest, yPred)\n",
    "    }\n",
    "\n",
    "    print(\"\\n📊 Model Evaluation Metrics:\")\n",
    "    for metric, score in metrics.items():\n",
    "        print(f\"{metric}: {score:.4f}\")\n",
    "\n",
    "    # Confusion matrix\n",
    "    print(\"\\n📉 Confusion Matrix:\")\n",
    "    print(confusion_matrix(yTest, yPred))\n",
    "\n",
    "    # Dump to JSON\n",
    "    # Step 4: Save metrics directly to the target location\n",
    "    metrics_path = f\"{target_dir}/metrics.json\"\n",
    "    with open(metrics_path, \"w\") as f:\n",
    "        json.dump(metrics, f, indent=4)\n",
    "    \n",
    "    print(f\"✅ Metrics dumped to: {metrics_path}\")\n",
    "\n",
    "\n",
    "    \n",
    "    # Step 6: Save model\n",
    "    model_path = f\"{target_dir}/model.pkl\"\n",
    "    joblib.dump(rfc, model_path)\n",
    "    print(f\"\\n✅ Model saved to: {model_path}\")\n",
    "\n",
    "    \n",
    "    print(\"\\n🏁 All steps completed successfully.\")\n",
    "\n",
    "if __name__ == \"__main__\":\n",
    "    main()\n",
    "#runagain"
   ]
  },
  {
   "cell_type": "code",
   "execution_count": 0,
   "metadata": {
    "application/vnd.databricks.v1+cell": {
     "cellMetadata": {
      "byteLimit": 2048000,
      "rowLimit": 10000
     },
     "inputWidgets": {},
     "nuid": "9fc002ab-ab30-4322-931f-37c1cc2cf77b",
     "showTitle": false,
     "tableResultSettingsMap": {},
     "title": ""
    }
   },
   "outputs": [],
   "source": []
  }
 ],
 "metadata": {
  "application/vnd.databricks.v1+notebook": {
   "computePreferences": null,
   "dashboards": [],
   "environmentMetadata": {
    "base_environment": "",
    "environment_version": "3"
   },
   "inputWidgetPreferences": null,
   "language": "python",
   "notebookMetadata": {
    "pythonIndentUnit": 4
   },
   "notebookName": "train_model",
   "widgets": {}
  },
  "language_info": {
   "name": "python"
  }
 },
 "nbformat": 4,
 "nbformat_minor": 0
}
