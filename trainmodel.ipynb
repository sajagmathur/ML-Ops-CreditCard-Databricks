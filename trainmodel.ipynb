{
 "cells": [
  {
   "cell_type": "code",
   "execution_count": 0,
   "metadata": {
    "application/vnd.databricks.v1+cell": {
     "cellMetadata": {
      "byteLimit": 2048000,
      "rowLimit": 10000
     },
     "inputWidgets": {},
     "nuid": "89708891-7c6c-4ae6-9b49-85e2d418a05a",
     "showTitle": false,
     "tableResultSettingsMap": {},
     "title": ""
    }
   },
   "outputs": [],
   "source": [
    "pip install snowflake"
   ]
  },
  {
   "cell_type": "code",
   "execution_count": 0,
   "metadata": {
    "application/vnd.databricks.v1+cell": {
     "cellMetadata": {
      "byteLimit": 2048000,
      "rowLimit": 10000
     },
     "inputWidgets": {},
     "nuid": "6227d535-7e70-4d91-a85b-bb6ac0a8f261",
     "showTitle": false,
     "tableResultSettingsMap": {},
     "title": ""
    }
   },
   "outputs": [],
   "source": [
    "pip install mlflow"
   ]
  },
  {
   "cell_type": "code",
   "execution_count": 0,
   "metadata": {
    "application/vnd.databricks.v1+cell": {
     "cellMetadata": {
      "byteLimit": 2048000,
      "rowLimit": 10000
     },
     "inputWidgets": {},
     "nuid": "51494a2b-0ff8-4be3-b6ea-5d5cba4b45a8",
     "showTitle": false,
     "tableResultSettingsMap": {},
     "title": ""
    }
   },
   "outputs": [],
   "source": [
    "import json\n",
    "import os\n",
    "import pandas as pd\n",
    "import snowflake.connector\n",
    "from sklearn.model_selection import train_test_split\n",
    "from sklearn.ensemble import RandomForestClassifier\n",
    "from sklearn.metrics import (\n",
    "    accuracy_score, precision_score, recall_score,\n",
    "    f1_score, matthews_corrcoef, confusion_matrix\n",
    ")\n",
    "import joblib\n",
    "import mlflow.sklearn\n",
    "from mlflow.models.signature import infer_signature\n",
    "from mlflow.tracking import MlflowClient"
   ]
  },
  {
   "cell_type": "code",
   "execution_count": 0,
   "metadata": {
    "application/vnd.databricks.v1+cell": {
     "cellMetadata": {
      "byteLimit": 2048000,
      "rowLimit": 10000
     },
     "inputWidgets": {},
     "nuid": "2a7b9e2a-04cd-4892-9582-7a91c0c6a7e8",
     "showTitle": false,
     "tableResultSettingsMap": {},
     "title": ""
    }
   },
   "outputs": [],
   "source": [
    "# Load credentials from environment variables\n",
    "account = os.getenv('SNOWFLAKE_ACCOUNT')\n",
    "user = os.getenv('SNOWFLAKE_USER')\n",
    "password = os.getenv('SNOWFLAKE_PASSWORD')\n",
    "warehouse = os.getenv('SNOWFLAKE_WAREHOUSE')\n",
    "database = os.getenv('SNOWFLAKE_DATABASE')  # should be 'CREDITCARD'\n",
    "schema = os.getenv('SNOWFLAKE_SCHEMA')      # should be 'PUBLIC'\n",
    "email = os.getenv('DATABRICKS_EMAIL')\n",
    "\n",
    "# Step 2: Construct target path\n",
    "target_dir = f\"/Workspace/Users/{email}/CREDITCARD/MODEL\"\n",
    "\n",
    "# Step 3: Ensure directory exists\n",
    "os.makedirs(target_dir, exist_ok=True)"
   ]
  },
  {
   "cell_type": "code",
   "execution_count": 0,
   "metadata": {
    "application/vnd.databricks.v1+cell": {
     "cellMetadata": {
      "byteLimit": 2048000,
      "rowLimit": 10000
     },
     "inputWidgets": {},
     "nuid": "99c1edcd-eb88-493c-9572-100750fa13ad",
     "showTitle": false,
     "tableResultSettingsMap": {},
     "title": ""
    }
   },
   "outputs": [],
   "source": [
    "# Function to fetch data from original table\n",
    "def fetch_data_from_snowflake():\n",
    "    conn = snowflake.connector.connect(\n",
    "        user=user,\n",
    "        password=password,\n",
    "        account=account,\n",
    "        warehouse=warehouse,\n",
    "        database=database,\n",
    "        schema=schema\n",
    "    )\n",
    "    cur = conn.cursor()\n",
    "    cur.execute(\"SELECT * FROM CREDITCARD.PUBLIC.CREDITCARD\")\n",
    "    df = cur.fetch_pandas_all()\n",
    "    conn.close()\n",
    "    return df\n"
   ]
  },
  {
   "cell_type": "code",
   "execution_count": 0,
   "metadata": {
    "application/vnd.databricks.v1+cell": {
     "cellMetadata": {
      "byteLimit": 2048000,
      "rowLimit": 10000
     },
     "inputWidgets": {},
     "nuid": "fe649fb6-5b66-4850-872e-c4d3812703d5",
     "showTitle": false,
     "tableResultSettingsMap": {},
     "title": ""
    }
   },
   "outputs": [],
   "source": [
    "\n",
    "\n",
    "def main():\n",
    "    # Step 1: Load data\n",
    "    data = fetch_data_from_snowflake()\n",
    "    print(\"✅ Data loaded from Snowflake. Shape:\", data.shape)\n",
    "\n",
    "    # Step 2: Split features and target\n",
    "    X = data.drop(['CLASS'], axis=1)\n",
    "    y = data['CLASS']\n",
    "    print(\"\\n🎯 Features shape:\", X.shape)\n",
    "    print(\"🎯 Target shape:\", y.shape)\n",
    "\n",
    "    # Step 3: Train-test split\n",
    "    xTrain, xTest, yTrain, yTest = train_test_split(X, y, test_size=0.2, random_state=42)\n",
    "    print(\"✅ Data split into train and test sets.\")\n",
    "\n",
    "    # Step 4: Train model\n",
    "    rfc = RandomForestClassifier()\n",
    "    rfc.fit(xTrain, yTrain)\n",
    "    print(\"✅ Random Forest model trained.\")\n",
    "\n",
    "    # Step 5: Evaluate model\n",
    "    yPred = rfc.predict(xTest)\n",
    "    metrics = {\n",
    "        'Accuracy': accuracy_score(yTest, yPred),\n",
    "        'Precision': precision_score(yTest, yPred),\n",
    "        'Recall': recall_score(yTest, yPred),\n",
    "        'F1 Score': f1_score(yTest, yPred),\n",
    "        'Matthews Corrcoef': matthews_corrcoef(yTest, yPred)\n",
    "    }\n",
    "\n",
    "    print(\"\\n📊 Model Evaluation Metrics:\")\n",
    "    for metric, score in metrics.items():\n",
    "        print(f\"{metric}: {score:.4f}\")\n",
    "\n",
    "    # Confusion matrix\n",
    "    print(\"\\n📉 Confusion Matrix:\")\n",
    "    print(confusion_matrix(yTest, yPred))\n",
    "\n",
    "    # Dump to JSON\n",
    "    # Step 4: Save metrics directly to the target location\n",
    "    metrics_path = f\"{target_dir}/metrics.json\"\n",
    "    with open(metrics_path, \"w\") as f:\n",
    "        json.dump(metrics, f, indent=4)\n",
    "    \n",
    "    print(f\"✅ Metrics dumped to: {metrics_path}\")\n",
    "\n",
    "\n",
    "    \n",
    "    # Step 6: Save model\n",
    "    model_path = f\"{target_dir}/model.pkl\"\n",
    "    joblib.dump(rfc, model_path)\n",
    "    print(f\"\\n✅ Model saved to: {model_path}\")\n",
    "\n",
    "    \n",
    "    print(\"\\n🏁 All steps completed successfully.\")\n",
    "\n",
    "if __name__ == \"__main__\":\n",
    "    main()\n",
    "#runagain"
   ]
  },
  {
   "cell_type": "code",
   "execution_count": 0,
   "metadata": {
    "application/vnd.databricks.v1+cell": {
     "cellMetadata": {
      "byteLimit": 2048000,
      "rowLimit": 10000
     },
     "inputWidgets": {},
     "nuid": "9f596827-e760-4138-9009-92a8aca6736c",
     "showTitle": false,
     "tableResultSettingsMap": {},
     "title": ""
    }
   },
   "outputs": [],
   "source": [
    "# Set MLflow tracking and registry URIs for Databricks Unity Catalog\n",
    "mlflow.set_tracking_uri(\"databricks\")\n",
    "mlflow.set_registry_uri(\"databricks-uc\")"
   ]
  },
  {
   "cell_type": "code",
   "execution_count": 0,
   "metadata": {
    "application/vnd.databricks.v1+cell": {
     "cellMetadata": {
      "byteLimit": 2048000,
      "rowLimit": 10000
     },
     "inputWidgets": {},
     "nuid": "9fc002ab-ab30-4322-931f-37c1cc2cf77b",
     "showTitle": false,
     "tableResultSettingsMap": {},
     "title": ""
    }
   },
   "outputs": [],
   "source": [
    "# Set experiment path (can also be parameterized)\n",
    "experiment_path = f\"/Users/{email}/CreditCardFraudDetection\"\n",
    "mlflow.set_experiment(experiment_path)"
   ]
  },
  {
   "cell_type": "code",
   "execution_count": 0,
   "metadata": {
    "application/vnd.databricks.v1+cell": {
     "cellMetadata": {
      "byteLimit": 2048000,
      "rowLimit": 10000
     },
     "inputWidgets": {},
     "nuid": "35034fd0-f35b-48a9-b276-8bc49b0045fa",
     "showTitle": false,
     "tableResultSettingsMap": {},
     "title": ""
    }
   },
   "outputs": [],
   "source": [
    "# Load model and metrics\n",
    "model_path = f\"{target_dir}/model.pkl\"\n",
    "metrics_path = f\"{target_dir}/metrics.json\"\n",
    "model = joblib.load(model_path)\n",
    "with open(metrics_path, \"r\") as f:\n",
    "    metrics = json.load(f)"
   ]
  },
  {
   "cell_type": "code",
   "execution_count": 0,
   "metadata": {
    "application/vnd.databricks.v1+cell": {
     "cellMetadata": {
      "byteLimit": 2048000,
      "rowLimit": 10000
     },
     "inputWidgets": {},
     "nuid": "80f00650-e13c-412e-bfee-f0e66bfa48e7",
     "showTitle": false,
     "tableResultSettingsMap": {},
     "title": ""
    }
   },
   "outputs": [],
   "source": [
    "# Thresholds\n",
    "test_thresholds = {\n",
    "    'Accuracy': 0.60,\n",
    "    'Precision': 0.60,\n",
    "    'Recall': 0.60,\n",
    "    'F1 Score': 0.60,\n",
    "    'Matthews Corrcoef': 0.60\n",
    "}"
   ]
  },
  {
   "cell_type": "code",
   "execution_count": 0,
   "metadata": {
    "application/vnd.databricks.v1+cell": {
     "cellMetadata": {
      "byteLimit": 2048000,
      "rowLimit": 10000
     },
     "inputWidgets": {},
     "nuid": "a429f9d0-15c5-46c0-a836-ee9c6c036159",
     "showTitle": false,
     "tableResultSettingsMap": {},
     "title": ""
    }
   },
   "outputs": [],
   "source": [
    "# Check metrics\n",
    "def tests_pass(metrics, thresholds):\n",
    "    for metric, threshold in thresholds.items():\n",
    "        value = metrics.get(metric)\n",
    "        if value is None:\n",
    "            print(f\"⚠️ Metric '{metric}' not found.\")\n",
    "            return False\n",
    "        if value < threshold:\n",
    "            print(f\"❌ Test failed: {metric} = {value:.4f} < threshold {threshold}\")\n",
    "            return False\n",
    "    return True"
   ]
  },
  {
   "cell_type": "code",
   "execution_count": 0,
   "metadata": {
    "application/vnd.databricks.v1+cell": {
     "cellMetadata": {
      "byteLimit": 2048000,
      "rowLimit": 10000
     },
     "inputWidgets": {},
     "nuid": "994c1461-dcf2-4868-b58c-80e9b42555fa",
     "showTitle": false,
     "tableResultSettingsMap": {},
     "title": ""
    }
   },
   "outputs": [],
   "source": [
    "if tests_pass(metrics, test_thresholds):\n",
    "    print(\"✅ All tests passed. Registering model with MLflow...\")\n",
    "\n",
    "    # Reload data to get signature\n",
    "    data = fetch_data_from_snowflake()\n",
    "    X = data.drop(['CLASS'], axis=1)\n",
    "    y = data['CLASS']\n",
    "    input_example = X.sample(1)\n",
    "    signature = infer_signature(X, model.predict(X))\n",
    "\n",
    "    # MLflow setup like IceCream model\n",
    "    mlflow.set_tracking_uri(\"databricks\")\n",
    "    mlflow.set_registry_uri(\"databricks-uc\")\n",
    "    email = os.getenv(\"DATABRICKS_EMAIL\", \"sajag.mathur@exlservice.com\")\n",
    "    mlflow.set_experiment(f\"/Users/{email}/CreditCardFraudModel\")\n",
    "\n",
    "    with mlflow.start_run(run_name=\"CreditCardFraudModel_Run\") as run:\n",
    "        # Log metrics\n",
    "        for key, val in metrics.items():\n",
    "            mlflow.log_metric(key, val)\n",
    "\n",
    "        # Register model to Unity Catalog\n",
    "        mlflow.sklearn.log_model(\n",
    "            sk_model=model,\n",
    "            name=\"model\",\n",
    "            registered_model_name=\"CreditCardFraudModel\",  # ✅ like IceCream\n",
    "            input_example=input_example,\n",
    "            signature=signature\n",
    "        )\n",
    "\n",
    "        # Optional: log original files\n",
    "        mlflow.log_artifact(model_path)\n",
    "        mlflow.log_artifact(metrics_path)\n",
    "\n",
    "        print(\"✅ Model logged and registered to Unity Catalog.\")\n",
    "        print(f\"🔗 Run ID: {run.info.run_id}\")\n",
    "\n",
    "    # Tag the latest model version as challenger\n",
    "    client = MlflowClient()\n",
    "    model_name = \"CreditCardFraudModel\"\n",
    "    versions = client.search_model_versions(f\"name='workspace.default.CreditCardFraudModel'\")\n",
    "    latest_version = max(versions, key=lambda v: int(v.version))\n",
    "    model_version = latest_version.version\n",
    "\n",
    "    client.set_model_version_tag(\n",
    "        name=model_name,\n",
    "        version=model_version,\n",
    "        key=\"role\",\n",
    "        value=\"challenger\"\n",
    "    )\n",
    "    client.set_model_version_tag(\n",
    "        name=model_name,\n",
    "        version=model_version,\n",
    "        key=\"status\",\n",
    "        value=\"staging\"\n",
    "    )\n",
    "\n",
    "    print(f\"🏷️ Model version {model_version} tagged as 'challenger' and 'staging'.\")\n",
    "\n",
    "else:\n",
    "    print(\"❌ Model failed tests. Skipping registration.\")"
   ]
  },
  {
   "cell_type": "code",
   "execution_count": 0,
   "metadata": {
    "application/vnd.databricks.v1+cell": {
     "cellMetadata": {
      "byteLimit": 2048000,
      "rowLimit": 10000
     },
     "inputWidgets": {},
     "nuid": "3471ec7e-773a-4976-b7d3-681184f9fe19",
     "showTitle": false,
     "tableResultSettingsMap": {},
     "title": ""
    }
   },
   "outputs": [],
   "source": []
  }
 ],
 "metadata": {
  "application/vnd.databricks.v1+notebook": {
   "computePreferences": null,
   "dashboards": [],
   "environmentMetadata": {
    "base_environment": "",
    "environment_version": "3"
   },
   "inputWidgetPreferences": null,
   "language": "python",
   "notebookMetadata": {
    "mostRecentlyExecutedCommandWithImplicitDF": {
     "commandId": 7993873125564937,
     "dataframes": [
      "_sqldf"
     ]
    },
    "pythonIndentUnit": 4
   },
   "notebookName": "trainmodel",
   "widgets": {}
  },
  "language_info": {
   "name": "python"
  }
 },
 "nbformat": 4,
 "nbformat_minor": 0
}
