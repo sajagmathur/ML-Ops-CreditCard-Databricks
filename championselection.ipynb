{
 "cells": [
  {
   "cell_type": "code",
   "execution_count": 0,
   "metadata": {
    "application/vnd.databricks.v1+cell": {
     "cellMetadata": {
      "byteLimit": 2048000,
      "rowLimit": 10000
     },
     "inputWidgets": {},
     "nuid": "3ea29855-784a-47c4-8d88-b1fc60b4cfd6",
     "showTitle": false,
     "tableResultSettingsMap": {},
     "title": ""
    }
   },
   "outputs": [],
   "source": [
    "pip install snowflake "
   ]
  },
  {
   "cell_type": "code",
   "execution_count": 0,
   "metadata": {
    "application/vnd.databricks.v1+cell": {
     "cellMetadata": {
      "byteLimit": 2048000,
      "rowLimit": 10000
     },
     "inputWidgets": {},
     "nuid": "1539f8b0-c01f-4802-a69a-05265a60bfc1",
     "showTitle": false,
     "tableResultSettingsMap": {},
     "title": ""
    }
   },
   "outputs": [],
   "source": [
    "pip install mlflow"
   ]
  },
  {
   "cell_type": "code",
   "execution_count": 0,
   "metadata": {
    "application/vnd.databricks.v1+cell": {
     "cellMetadata": {
      "byteLimit": 2048000,
      "rowLimit": 10000
     },
     "inputWidgets": {},
     "nuid": "d4576acb-4fa0-4dd2-a316-20f6e85e4ea7",
     "showTitle": false,
     "tableResultSettingsMap": {},
     "title": ""
    }
   },
   "outputs": [],
   "source": [
    "import mlflow\n",
    "from mlflow.tracking import MlflowClient\n",
    "import os\n",
    "import snowflake.connector"
   ]
  },
  {
   "cell_type": "code",
   "execution_count": 0,
   "metadata": {
    "application/vnd.databricks.v1+cell": {
     "cellMetadata": {
      "byteLimit": 2048000,
      "rowLimit": 10000
     },
     "inputWidgets": {},
     "nuid": "2de64090-6d33-4d63-8e4e-d5fa3fbddfec",
     "showTitle": false,
     "tableResultSettingsMap": {},
     "title": ""
    }
   },
   "outputs": [],
   "source": [
    "# Set to Databricks MLflow\n",
    "mlflow.set_tracking_uri(\"databricks\")\n",
    "mlflow.set_registry_uri(\"databricks-uc\")"
   ]
  },
  {
   "cell_type": "code",
   "execution_count": 0,
   "metadata": {
    "application/vnd.databricks.v1+cell": {
     "cellMetadata": {
      "byteLimit": 2048000,
      "rowLimit": 10000
     },
     "inputWidgets": {},
     "nuid": "614c0c87-7e23-46e7-8b6b-0d03ca6282b1",
     "showTitle": false,
     "tableResultSettingsMap": {},
     "title": ""
    }
   },
   "outputs": [],
   "source": [
    "# Environment settings\n",
    "model_name = \"workspace.default.CreditCardFraudModel\"\n",
    "METRICS_TO_COMPARE = ['Accuracy', 'Precision', 'Recall', 'F1 Score', 'Matthews Corrcoef']\n"
   ]
  },
  {
   "cell_type": "code",
   "execution_count": 0,
   "metadata": {
    "application/vnd.databricks.v1+cell": {
     "cellMetadata": {
      "byteLimit": 2048000,
      "rowLimit": 10000
     },
     "inputWidgets": {},
     "nuid": "97e6c5e8-cd2d-488b-933f-96647fb85891",
     "showTitle": false,
     "tableResultSettingsMap": {},
     "title": ""
    }
   },
   "outputs": [],
   "source": [
    "# Snowflake details\n",
    "\n",
    "# Load credentials from environment variables\n",
    "\n",
    "account = dbutils.widgets.get(\"SNOWFLAKE_ACCOUNT\")\n",
    "user = dbutils.widgets.get(\"SNOWFLAKE_USER\")\n",
    "password = dbutils.widgets.get(\"SNOWFLAKE_PASSWORD\")\n",
    "warehouse = dbutils.widgets.get(\"SNOWFLAKE_WAREHOUSE\")\n",
    "database = dbutils.widgets.get(\"SNOWFLAKE_DATABASE\")\n",
    "schema = dbutils.widgets.get(\"SNOWFLAKE_SCHEMA\")\n",
    "email = dbutils.widgets.get(\"DATABRICKS_EMAIL\")\n",
    "\n",
    "\n",
    "# Optional: set them as environment variables if you need\n",
    "\n",
    "os.environ[\"SNOWFLAKE_USER\"] = user\n",
    "os.environ[\"SNOWFLAKE_PASSWORD\"] = password\n",
    "os.environ[\"SNOWFLAKE_ACCOUNT\"] = account\n",
    "os.environ[\"SNOWFLAKE_WAREHOUSE\"] = warehouse\n",
    "os.environ[\"SNOWFLAKE_DATABASE\"] = database\n",
    "os.environ[\"DATABRICKS_EMAIL\"] = email\n",
    "os.environ[\"DATABRICKS_SCHEMA\"] = schema"
   ]
  },
  {
   "cell_type": "code",
   "execution_count": 0,
   "metadata": {
    "application/vnd.databricks.v1+cell": {
     "cellMetadata": {
      "byteLimit": 2048000,
      "rowLimit": 10000
     },
     "inputWidgets": {},
     "nuid": "bcf2f278-8cb3-4bfc-9770-8fc8fa31ea2b",
     "showTitle": false,
     "tableResultSettingsMap": {},
     "title": ""
    }
   },
   "outputs": [],
   "source": [
    "def copy_reference_table():\n",
    "    print(\"\\n📤 Copying reference dataset in Snowflake...\")\n",
    "    conn = snowflake.connector.connect(\n",
    "        user=user,\n",
    "        password=password,\n",
    "        account=account,\n",
    "        warehouse=warehouse,\n",
    "        database='CREDITCARD_REFERENCE',\n",
    "        schema='PUBLIC'\n",
    "    )\n",
    "    cur = conn.cursor()\n",
    "    cur.execute(\"\"\"\n",
    "        CREATE OR REPLACE TABLE CREDITCARD_REFERENCE.PUBLIC.CREDITCARD_REFERENCE AS\n",
    "        SELECT * FROM CREDITCARD.PUBLIC.CREDITCARD\n",
    "    \"\"\")\n",
    "    conn.close()\n",
    "    print(\"✅ Reference table copied successfully.\")\n"
   ]
  },
  {
   "cell_type": "code",
   "execution_count": 0,
   "metadata": {
    "application/vnd.databricks.v1+cell": {
     "cellMetadata": {
      "byteLimit": 2048000,
      "rowLimit": 10000
     },
     "inputWidgets": {},
     "nuid": "834f0be8-50ed-4bee-85d4-31a272da3b90",
     "showTitle": false,
     "tableResultSettingsMap": {},
     "title": ""
    }
   },
   "outputs": [],
   "source": [
    "def get_model_versions(client, model_name):\n",
    "    return client.search_model_versions(f\"name='workspace.default.{model_name}'\")"
   ]
  },
  {
   "cell_type": "code",
   "execution_count": 0,
   "metadata": {
    "application/vnd.databricks.v1+cell": {
     "cellMetadata": {
      "byteLimit": 2048000,
      "rowLimit": 10000
     },
     "inputWidgets": {},
     "nuid": "e84fec88-0f41-4dba-9aad-fdbc2a8d06ae",
     "showTitle": false,
     "tableResultSettingsMap": {},
     "title": ""
    }
   },
   "outputs": [],
   "source": [
    "def get_model_version_by_tag(client, model_name, tag_key, tag_value):\n",
    "    versions = client.search_model_versions(f\"name='{model_name}'\")\n",
    "    for v in versions:\n",
    "        mv = client.get_model_version(name=model_name, version=v.version)  # ✅ Fetch full version\n",
    "        tags = mv.tags  # ✅ tags are available here\n",
    "        if tags.get(tag_key) == tag_value:\n",
    "            return mv  # ✅ return full model version with tags\n",
    "    return None"
   ]
  },
  {
   "cell_type": "code",
   "execution_count": 0,
   "metadata": {
    "application/vnd.databricks.v1+cell": {
     "cellMetadata": {
      "byteLimit": 2048000,
      "rowLimit": 10000
     },
     "inputWidgets": {},
     "nuid": "5cea7f35-9f6f-4799-a88c-ed361cb17c23",
     "showTitle": false,
     "tableResultSettingsMap": {},
     "title": ""
    }
   },
   "outputs": [],
   "source": [
    "def get_model_version_metrics(client, model_name, version):\n",
    "    mv = client.get_model_version(name=model_name, version=version)\n",
    "    run_id = mv.run_id\n",
    "    run = client.get_run(run_id)\n",
    "    return run.data.metrics"
   ]
  },
  {
   "cell_type": "code",
   "execution_count": 0,
   "metadata": {
    "application/vnd.databricks.v1+cell": {
     "cellMetadata": {
      "byteLimit": 2048000,
      "rowLimit": 10000
     },
     "inputWidgets": {},
     "nuid": "75a7abf1-e116-4867-b612-72b289e91a4b",
     "showTitle": false,
     "tableResultSettingsMap": {},
     "title": ""
    }
   },
   "outputs": [],
   "source": [
    "def better_than(challenger_metrics, champion_metrics):\n",
    "    better_count = 0\n",
    "    for metric in METRICS_TO_COMPARE:\n",
    "        c_val = challenger_metrics.get(metric)\n",
    "        champ_val = champion_metrics.get(metric)\n",
    "        if c_val is None or champ_val is None:\n",
    "            continue\n",
    "        if c_val > champ_val:\n",
    "            better_count += 1\n",
    "    return better_count > len(METRICS_TO_COMPARE) / 2"
   ]
  },
  {
   "cell_type": "code",
   "execution_count": 0,
   "metadata": {
    "application/vnd.databricks.v1+cell": {
     "cellMetadata": {
      "byteLimit": 2048000,
      "rowLimit": 10000
     },
     "inputWidgets": {},
     "nuid": "b822ad15-1fed-4858-9324-6ca2f74c18b5",
     "showTitle": false,
     "tableResultSettingsMap": {},
     "title": ""
    }
   },
   "outputs": [],
   "source": [
    "def main():\n",
    "    client = MlflowClient()\n",
    "\n",
    "    print(\"🚀 Starting Databricks-compatible Champion Selection...\")\n",
    "\n",
    "    # Get current challenger\n",
    "    challenger = get_model_version_by_tag(client, model_name, \"role\", \"challenger\")\n",
    "    if not challenger:\n",
    "        print(\"❌ No challenger model found.\")\n",
    "        return\n",
    "\n",
    "    print(f\"ℹ️ Challenger found: version {challenger.version}, run {challenger.run_id}\")\n",
    "\n",
    "    # Get current champion\n",
    "    champion = get_model_version_by_tag(client, model_name, \"role\", \"champion\")\n",
    "\n",
    "    if not champion:\n",
    "        print(\"⚠️ No champion found. Promoting challenger directly.\")\n",
    "        client.set_model_version_tag(model_name, challenger.version, \"status\", \"production\")\n",
    "        client.set_model_version_tag(model_name, challenger.version, \"role\", \"champion\")\n",
    "        copy_reference_table()\n",
    "        print(f\"✅ Challenger version {challenger.version} promoted to production.\")\n",
    "        return\n",
    "\n",
    "    print(f\"ℹ️ Champion found: version {champion.version}, run {champion.run_id}\")\n",
    "\n",
    "    challenger_metrics = get_model_version_metrics(client, model_name, challenger.version)\n",
    "    champion_metrics = get_model_version_metrics(client, model_name, champion.version)\n",
    "\n",
    "    print(\"\\n📊 Metrics Comparison:\")\n",
    "    print(f\"{'Metric':<20} {'Challenger':<15} {'Champion':<15}\")\n",
    "    print(\"-\" * 50)\n",
    "    for metric in METRICS_TO_COMPARE:\n",
    "        c_val = challenger_metrics.get(metric, 'N/A')\n",
    "        champ_val = champion_metrics.get(metric, 'N/A')\n",
    "        print(f\"{metric:<20} {str(c_val):<15} {str(champ_val):<15}\")\n",
    "\n",
    "    if better_than(challenger_metrics, champion_metrics):\n",
    "        print(f\"\\n🚀 Challenger outperforms champion. Promoting challenger...\")\n",
    "        # Archive old champion\n",
    "        client.set_model_version_tag(model_name, champion.version, \"status\", \"archived\")\n",
    "        client.set_model_version_tag(model_name, champion.version, \"role\", \"archived\")\n",
    "\n",
    "        # Promote challenger\n",
    "        client.set_model_version_tag(model_name, challenger.version, \"status\", \"production\")\n",
    "        client.set_model_version_tag(model_name, challenger.version, \"role\", \"champion\")\n",
    "\n",
    "        copy_reference_table()\n",
    "\n",
    "        print(f\"✅ Challenger v{challenger.version} promoted to Champion (Production).\")\n",
    "    else:\n",
    "        print(f\"\\n⚠️ Challenger did NOT outperform champion. No changes made.\")\n",
    "\n",
    "if __name__ == \"__main__\":\n",
    "    main()\n"
   ]
  },
  {
   "cell_type": "code",
   "execution_count": 0,
   "metadata": {
    "application/vnd.databricks.v1+cell": {
     "cellMetadata": {},
     "inputWidgets": {},
     "nuid": "a16514f7-ecbd-46e9-978a-444a358966c2",
     "showTitle": false,
     "tableResultSettingsMap": {},
     "title": ""
    }
   },
   "outputs": [],
   "source": []
  }
 ],
 "metadata": {
  "application/vnd.databricks.v1+notebook": {
   "computePreferences": null,
   "dashboards": [],
   "environmentMetadata": {
    "base_environment": "",
    "environment_version": "3"
   },
   "inputWidgetPreferences": null,
   "language": "python",
   "notebookMetadata": {
    "pythonIndentUnit": 4
   },
   "notebookName": "championselection",
   "widgets": {}
  },
  "language_info": {
   "name": "python"
  }
 },
 "nbformat": 4,
 "nbformat_minor": 0
}
