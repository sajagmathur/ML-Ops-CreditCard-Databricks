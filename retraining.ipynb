{
 "cells": [
  {
   "cell_type": "code",
   "execution_count": 0,
   "metadata": {
    "application/vnd.databricks.v1+cell": {
     "cellMetadata": {
      "byteLimit": 2048000,
      "rowLimit": 10000
     },
     "inputWidgets": {},
     "nuid": "4ba3f29e-2774-408a-a8d8-8dc13dca2aaf",
     "showTitle": false,
     "tableResultSettingsMap": {},
     "title": ""
    }
   },
   "outputs": [],
   "source": [
    "import os\n",
    "import pandas as pd\n",
    "import requests"
   ]
  },
  {
   "cell_type": "code",
   "execution_count": 0,
   "metadata": {
    "application/vnd.databricks.v1+cell": {
     "cellMetadata": {
      "byteLimit": 2048000,
      "rowLimit": 10000
     },
     "inputWidgets": {},
     "nuid": "4b46f6a2-461a-455c-9298-4b58768a77a7",
     "showTitle": false,
     "tableResultSettingsMap": {},
     "title": ""
    }
   },
   "outputs": [],
   "source": [
    "# Read environment/config values\n",
    "# Get parameters from Databricks job run\n",
    "EMAIL = dbutils.widgets.get(\"email\")  # your email parameter\n",
    "GITHUB_TOKEN = dbutils.widgets.get(\"github_pat\")  # your GitHub PAT\n",
    "RETRAIN_PATH = f\"/Workspace/Users/{EMAIL}/CREDITCARD/Retraining_Decision/Retrain.csv\""
   ]
  },
  {
   "cell_type": "code",
   "execution_count": 0,
   "metadata": {
    "application/vnd.databricks.v1+cell": {
     "cellMetadata": {
      "byteLimit": 2048000,
      "rowLimit": 10000
     },
     "inputWidgets": {},
     "nuid": "5e369eda-9204-4563-b9f4-f40514d98a80",
     "showTitle": false,
     "tableResultSettingsMap": {},
     "title": ""
    }
   },
   "outputs": [],
   "source": [
    "# GitHub configuration (replace these with your own)\n",
    "GITHUB_REPO = \"sajagmathur/ML-Ops-CreditCard-Databricks\"   # e.g., \"org/mlops-pipeline\"\n",
    "GITHUB_WORKFLOW_FILE = \"CI CD Pipleline.yml\"      # name of your workflow YAML file in .github/workflows/\n",
    "GITHUB_API_URL = f\"https://api.github.com/repos/{GITHUB_REPO}/actions/workflows/{GITHUB_WORKFLOW_FILE}/dispatches\"\n",
    "GITHUB_BRANCH = \"main\""
   ]
  },
  {
   "cell_type": "code",
   "execution_count": 0,
   "metadata": {
    "application/vnd.databricks.v1+cell": {
     "cellMetadata": {
      "byteLimit": 2048000,
      "rowLimit": 10000
     },
     "inputWidgets": {},
     "nuid": "7bfaa610-8f1e-43ab-8b52-334a3bcce974",
     "showTitle": false,
     "tableResultSettingsMap": {},
     "title": ""
    }
   },
   "outputs": [],
   "source": [
    "import pandas as pd\n",
    "from datetime import datetime\n",
    "\n",
    "print(\"🔍 Starting retraining decision check...\")\n",
    "\n",
    "try:\n",
    "    print(f\"📂 Attempting to read retraining decision file from: {RETRAIN_PATH}\")\n",
    "    df = pd.read_csv(RETRAIN_PATH)\n",
    "    print(f\"✅ Successfully loaded retraining decision file. Rows found: {len(df)}\")\n",
    "except FileNotFoundError:\n",
    "    print(\"❌ Retrain.csv not found. Skipping retraining check and exiting notebook.\")\n",
    "    dbutils.notebook.exit(\"No retraining\")\n",
    "\n",
    "decision = df.loc[0, 'Retraining_Decision'].strip().upper()\n",
    "print(f\"📝 Retrieved decision from file: '{decision}'\")\n",
    "\n",
    "if decision == \"YES\":\n",
    "    print(\"🔁 Retraining required. Preparing to trigger GitHub Actions workflow...\")\n",
    "\n",
    "    headers = {\n",
    "        \"Authorization\": f\"Bearer {GITHUB_TOKEN}\",\n",
    "        \"Accept\": \"application/vnd.github.v3+json\"\n",
    "    }\n",
    "    print(f\"🔐 Authorization header set with provided GitHub token.\")\n",
    "\n",
    "    payload = {\n",
    "        \"ref\": GITHUB_BRANCH,\n",
    "        \"inputs\": {}  # Add custom inputs here if needed\n",
    "    }\n",
    "    print(f\"📦 Payload prepared to trigger workflow on branch: '{GITHUB_BRANCH}'\")\n",
    "\n",
    "    print(f\"🚀 Sending POST request to GitHub API: {GITHUB_API_URL}\")\n",
    "    response = requests.post(GITHUB_API_URL, headers=headers, json=payload)\n",
    "\n",
    "    if response.status_code == 204:\n",
    "        print(\"✅ GitHub Actions workflow triggered successfully!\")\n",
    "\n",
    "        # Update retrain.csv after successful trigger\n",
    "        try:\n",
    "            timestamp = datetime.utcnow().strftime('%Y-%m-%d %H:%M:%S UTC')\n",
    "            df.loc[0, 'Retraining_Decision'] = \"NO\"\n",
    "            df.loc[0, 'Rationale'] = f\"Retraining Triggered at {timestamp}\"\n",
    "            df.to_csv(RETRAIN_PATH, index=False)\n",
    "            print(f\"✅ Updated retraining decision saved at {RETRAIN_PATH} with decision=NO and rationale including timestamp.\")\n",
    "        except Exception as e:\n",
    "            print(f\"❌ Error updating retraining decision file: {e}\")\n",
    "\n",
    "    else:\n",
    "        print(f\"❌ Failed to trigger GitHub Actions. Status code: {response.status_code}\")\n",
    "        print(f\"❌ Response content: {response.text}\")\n",
    "else:\n",
    "    print(\"⏭️ No retraining required according to the decision file. No action taken.\")\n"
   ]
  },
  {
   "cell_type": "code",
   "execution_count": 0,
   "metadata": {
    "application/vnd.databricks.v1+cell": {
     "cellMetadata": {
      "byteLimit": 2048000,
      "rowLimit": 10000
     },
     "inputWidgets": {},
     "nuid": "48d528a3-48ca-45e8-9f12-4fa2a95714de",
     "showTitle": false,
     "tableResultSettingsMap": {},
     "title": ""
    }
   },
   "outputs": [],
   "source": []
  }
 ],
 "metadata": {
  "application/vnd.databricks.v1+notebook": {
   "computePreferences": null,
   "dashboards": [],
   "environmentMetadata": {
    "base_environment": "",
    "environment_version": "3"
   },
   "inputWidgetPreferences": null,
   "language": "python",
   "notebookMetadata": {
    "pythonIndentUnit": 4
   },
   "notebookName": "retraining",
   "widgets": {
    "EMAIL": {
     "currentValue": "",
     "nuid": "850e190a-34f2-4cf4-8179-2a08d47e82b2",
     "typedWidgetInfo": {
      "autoCreated": false,
      "defaultValue": "",
      "label": "User Email",
      "name": "EMAIL",
      "options": {
       "widgetDisplayType": "Text",
       "validationRegex": null
      },
      "parameterDataType": "String"
     },
     "widgetInfo": {
      "widgetType": "text",
      "defaultValue": "",
      "label": "User Email",
      "name": "EMAIL",
      "options": {
       "widgetType": "text",
       "autoCreated": null,
       "validationRegex": null
      }
     }
    }
   }
  },
  "language_info": {
   "name": "python"
  }
 },
 "nbformat": 4,
 "nbformat_minor": 0
}
